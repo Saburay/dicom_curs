{
  "nbformat": 4,
  "nbformat_minor": 0,
  "metadata": {
    "colab": {
      "provenance": [],
      "include_colab_link": true
    },
    "kernelspec": {
      "name": "python3",
      "display_name": "Python 3"
    },
    "language_info": {
      "name": "python"
    },
    "accelerator": "GPU"
  },
  "cells": [
    {
      "cell_type": "markdown",
      "metadata": {
        "id": "view-in-github",
        "colab_type": "text"
      },
      "source": [
        "<a href=\"https://colab.research.google.com/github/Saburay/dicom_curs/blob/main/medical_image_analysis_in_python.ipynb\" target=\"_parent\"><img src=\"https://colab.research.google.com/assets/colab-badge.svg\" alt=\"Open In Colab\"/></a>"
      ]
    },
    {
      "cell_type": "code",
      "metadata": {
        "colab": {
          "base_uri": "https://localhost:8080/"
        },
        "id": "PVDq1TBrg--E",
        "outputId": "e7d03964-b6a4-4bfb-b04c-2916d31a608c"
      },
      "source": [
        "!pip install pydicom"
      ],
      "execution_count": 20,
      "outputs": [
        {
          "output_type": "stream",
          "name": "stdout",
          "text": [
            "Requirement already satisfied: pydicom in /usr/local/lib/python3.10/dist-packages (2.4.4)\n"
          ]
        }
      ]
    },
    {
      "cell_type": "code",
      "metadata": {
        "colab": {
          "base_uri": "https://localhost:8080/"
        },
        "id": "BdwSrilWhFsr",
        "outputId": "27787a25-5732-4610-9baa-0294dff3e748"
      },
      "source": [
        "!pip install kaggle"
      ],
      "execution_count": 21,
      "outputs": [
        {
          "output_type": "stream",
          "name": "stdout",
          "text": [
            "Requirement already satisfied: kaggle in /usr/local/lib/python3.10/dist-packages (1.5.16)\n",
            "Requirement already satisfied: six>=1.10 in /usr/local/lib/python3.10/dist-packages (from kaggle) (1.16.0)\n",
            "Requirement already satisfied: certifi in /usr/local/lib/python3.10/dist-packages (from kaggle) (2024.2.2)\n",
            "Requirement already satisfied: python-dateutil in /usr/local/lib/python3.10/dist-packages (from kaggle) (2.8.2)\n",
            "Requirement already satisfied: requests in /usr/local/lib/python3.10/dist-packages (from kaggle) (2.31.0)\n",
            "Requirement already satisfied: tqdm in /usr/local/lib/python3.10/dist-packages (from kaggle) (4.66.2)\n",
            "Requirement already satisfied: python-slugify in /usr/local/lib/python3.10/dist-packages (from kaggle) (8.0.4)\n",
            "Requirement already satisfied: urllib3 in /usr/local/lib/python3.10/dist-packages (from kaggle) (2.0.7)\n",
            "Requirement already satisfied: bleach in /usr/local/lib/python3.10/dist-packages (from kaggle) (6.1.0)\n",
            "Requirement already satisfied: webencodings in /usr/local/lib/python3.10/dist-packages (from bleach->kaggle) (0.5.1)\n",
            "Requirement already satisfied: text-unidecode>=1.3 in /usr/local/lib/python3.10/dist-packages (from python-slugify->kaggle) (1.3)\n",
            "Requirement already satisfied: charset-normalizer<4,>=2 in /usr/local/lib/python3.10/dist-packages (from requests->kaggle) (3.3.2)\n",
            "Requirement already satisfied: idna<4,>=2.5 in /usr/local/lib/python3.10/dist-packages (from requests->kaggle) (3.6)\n"
          ]
        }
      ]
    },
    {
      "cell_type": "code",
      "metadata": {
        "colab": {
          "base_uri": "https://localhost:8080/",
          "height": 90
        },
        "id": "F6n_7Q8bhMmC",
        "outputId": "e7df0ee1-20f7-46f8-ae52-e866568f71d2"
      },
      "source": [
        "from google.colab import files\n",
        "\n",
        "uploaded = files.upload()\n",
        "\n",
        "for fn in uploaded.keys():\n",
        "  print('User uploaded file \"{name}\" with length {length} bytes'.format(\n",
        "      name=fn, length=len(uploaded[fn])))"
      ],
      "execution_count": 22,
      "outputs": [
        {
          "output_type": "display_data",
          "data": {
            "text/plain": [
              "<IPython.core.display.HTML object>"
            ],
            "text/html": [
              "\n",
              "     <input type=\"file\" id=\"files-5499bb66-7d6d-4ca5-a45e-00e207e7a1a2\" name=\"files[]\" multiple disabled\n",
              "        style=\"border:none\" />\n",
              "     <output id=\"result-5499bb66-7d6d-4ca5-a45e-00e207e7a1a2\">\n",
              "      Upload widget is only available when the cell has been executed in the\n",
              "      current browser session. Please rerun this cell to enable.\n",
              "      </output>\n",
              "      <script>// Copyright 2017 Google LLC\n",
              "//\n",
              "// Licensed under the Apache License, Version 2.0 (the \"License\");\n",
              "// you may not use this file except in compliance with the License.\n",
              "// You may obtain a copy of the License at\n",
              "//\n",
              "//      http://www.apache.org/licenses/LICENSE-2.0\n",
              "//\n",
              "// Unless required by applicable law or agreed to in writing, software\n",
              "// distributed under the License is distributed on an \"AS IS\" BASIS,\n",
              "// WITHOUT WARRANTIES OR CONDITIONS OF ANY KIND, either express or implied.\n",
              "// See the License for the specific language governing permissions and\n",
              "// limitations under the License.\n",
              "\n",
              "/**\n",
              " * @fileoverview Helpers for google.colab Python module.\n",
              " */\n",
              "(function(scope) {\n",
              "function span(text, styleAttributes = {}) {\n",
              "  const element = document.createElement('span');\n",
              "  element.textContent = text;\n",
              "  for (const key of Object.keys(styleAttributes)) {\n",
              "    element.style[key] = styleAttributes[key];\n",
              "  }\n",
              "  return element;\n",
              "}\n",
              "\n",
              "// Max number of bytes which will be uploaded at a time.\n",
              "const MAX_PAYLOAD_SIZE = 100 * 1024;\n",
              "\n",
              "function _uploadFiles(inputId, outputId) {\n",
              "  const steps = uploadFilesStep(inputId, outputId);\n",
              "  const outputElement = document.getElementById(outputId);\n",
              "  // Cache steps on the outputElement to make it available for the next call\n",
              "  // to uploadFilesContinue from Python.\n",
              "  outputElement.steps = steps;\n",
              "\n",
              "  return _uploadFilesContinue(outputId);\n",
              "}\n",
              "\n",
              "// This is roughly an async generator (not supported in the browser yet),\n",
              "// where there are multiple asynchronous steps and the Python side is going\n",
              "// to poll for completion of each step.\n",
              "// This uses a Promise to block the python side on completion of each step,\n",
              "// then passes the result of the previous step as the input to the next step.\n",
              "function _uploadFilesContinue(outputId) {\n",
              "  const outputElement = document.getElementById(outputId);\n",
              "  const steps = outputElement.steps;\n",
              "\n",
              "  const next = steps.next(outputElement.lastPromiseValue);\n",
              "  return Promise.resolve(next.value.promise).then((value) => {\n",
              "    // Cache the last promise value to make it available to the next\n",
              "    // step of the generator.\n",
              "    outputElement.lastPromiseValue = value;\n",
              "    return next.value.response;\n",
              "  });\n",
              "}\n",
              "\n",
              "/**\n",
              " * Generator function which is called between each async step of the upload\n",
              " * process.\n",
              " * @param {string} inputId Element ID of the input file picker element.\n",
              " * @param {string} outputId Element ID of the output display.\n",
              " * @return {!Iterable<!Object>} Iterable of next steps.\n",
              " */\n",
              "function* uploadFilesStep(inputId, outputId) {\n",
              "  const inputElement = document.getElementById(inputId);\n",
              "  inputElement.disabled = false;\n",
              "\n",
              "  const outputElement = document.getElementById(outputId);\n",
              "  outputElement.innerHTML = '';\n",
              "\n",
              "  const pickedPromise = new Promise((resolve) => {\n",
              "    inputElement.addEventListener('change', (e) => {\n",
              "      resolve(e.target.files);\n",
              "    });\n",
              "  });\n",
              "\n",
              "  const cancel = document.createElement('button');\n",
              "  inputElement.parentElement.appendChild(cancel);\n",
              "  cancel.textContent = 'Cancel upload';\n",
              "  const cancelPromise = new Promise((resolve) => {\n",
              "    cancel.onclick = () => {\n",
              "      resolve(null);\n",
              "    };\n",
              "  });\n",
              "\n",
              "  // Wait for the user to pick the files.\n",
              "  const files = yield {\n",
              "    promise: Promise.race([pickedPromise, cancelPromise]),\n",
              "    response: {\n",
              "      action: 'starting',\n",
              "    }\n",
              "  };\n",
              "\n",
              "  cancel.remove();\n",
              "\n",
              "  // Disable the input element since further picks are not allowed.\n",
              "  inputElement.disabled = true;\n",
              "\n",
              "  if (!files) {\n",
              "    return {\n",
              "      response: {\n",
              "        action: 'complete',\n",
              "      }\n",
              "    };\n",
              "  }\n",
              "\n",
              "  for (const file of files) {\n",
              "    const li = document.createElement('li');\n",
              "    li.append(span(file.name, {fontWeight: 'bold'}));\n",
              "    li.append(span(\n",
              "        `(${file.type || 'n/a'}) - ${file.size} bytes, ` +\n",
              "        `last modified: ${\n",
              "            file.lastModifiedDate ? file.lastModifiedDate.toLocaleDateString() :\n",
              "                                    'n/a'} - `));\n",
              "    const percent = span('0% done');\n",
              "    li.appendChild(percent);\n",
              "\n",
              "    outputElement.appendChild(li);\n",
              "\n",
              "    const fileDataPromise = new Promise((resolve) => {\n",
              "      const reader = new FileReader();\n",
              "      reader.onload = (e) => {\n",
              "        resolve(e.target.result);\n",
              "      };\n",
              "      reader.readAsArrayBuffer(file);\n",
              "    });\n",
              "    // Wait for the data to be ready.\n",
              "    let fileData = yield {\n",
              "      promise: fileDataPromise,\n",
              "      response: {\n",
              "        action: 'continue',\n",
              "      }\n",
              "    };\n",
              "\n",
              "    // Use a chunked sending to avoid message size limits. See b/62115660.\n",
              "    let position = 0;\n",
              "    do {\n",
              "      const length = Math.min(fileData.byteLength - position, MAX_PAYLOAD_SIZE);\n",
              "      const chunk = new Uint8Array(fileData, position, length);\n",
              "      position += length;\n",
              "\n",
              "      const base64 = btoa(String.fromCharCode.apply(null, chunk));\n",
              "      yield {\n",
              "        response: {\n",
              "          action: 'append',\n",
              "          file: file.name,\n",
              "          data: base64,\n",
              "        },\n",
              "      };\n",
              "\n",
              "      let percentDone = fileData.byteLength === 0 ?\n",
              "          100 :\n",
              "          Math.round((position / fileData.byteLength) * 100);\n",
              "      percent.textContent = `${percentDone}% done`;\n",
              "\n",
              "    } while (position < fileData.byteLength);\n",
              "  }\n",
              "\n",
              "  // All done.\n",
              "  yield {\n",
              "    response: {\n",
              "      action: 'complete',\n",
              "    }\n",
              "  };\n",
              "}\n",
              "\n",
              "scope.google = scope.google || {};\n",
              "scope.google.colab = scope.google.colab || {};\n",
              "scope.google.colab._files = {\n",
              "  _uploadFiles,\n",
              "  _uploadFilesContinue,\n",
              "};\n",
              "})(self);\n",
              "</script> "
            ]
          },
          "metadata": {}
        },
        {
          "output_type": "stream",
          "name": "stdout",
          "text": [
            "Saving kaggle.json to kaggle.json\n",
            "User uploaded file \"kaggle.json\" with length 63 bytes\n"
          ]
        }
      ]
    },
    {
      "cell_type": "code",
      "metadata": {
        "id": "7dNk0xSthfSX"
      },
      "source": [
        "!mkdir -p ~/.kaggle/ && mv kaggle.json ~/.kaggle/ && chmod 600 ~/.kaggle/kaggle.json"
      ],
      "execution_count": 23,
      "outputs": []
    },
    {
      "cell_type": "code",
      "metadata": {
        "colab": {
          "base_uri": "https://localhost:8080/"
        },
        "id": "g2QjfEJBhHIc",
        "outputId": "40be5819-8b6d-495a-8924-da3f83651e23"
      },
      "source": [
        "!kaggle competitions download -c siim-acr-pneumothorax-segmentation"
      ],
      "execution_count": 24,
      "outputs": [
        {
          "output_type": "stream",
          "name": "stdout",
          "text": [
            "Downloading siim-acr-pneumothorax-segmentation.zip to /content\n",
            "100% 412M/412M [00:03<00:00, 182MB/s]\n",
            "100% 412M/412M [00:03<00:00, 119MB/s]\n"
          ]
        }
      ]
    },
    {
      "cell_type": "code",
      "metadata": {
        "colab": {
          "base_uri": "https://localhost:8080/"
        },
        "id": "MD7AmJhchKQ2",
        "outputId": "ae131b44-6ca2-4ead-a142-88cfd2db86c6"
      },
      "source": [
        "!pip install nibabel"
      ],
      "execution_count": 25,
      "outputs": [
        {
          "output_type": "stream",
          "name": "stdout",
          "text": [
            "Requirement already satisfied: nibabel in /usr/local/lib/python3.10/dist-packages (4.0.2)\n",
            "Requirement already satisfied: numpy>=1.17 in /usr/local/lib/python3.10/dist-packages (from nibabel) (1.25.2)\n",
            "Requirement already satisfied: packaging>=17.0 in /usr/local/lib/python3.10/dist-packages (from nibabel) (23.2)\n",
            "Requirement already satisfied: setuptools in /usr/local/lib/python3.10/dist-packages (from nibabel) (67.7.2)\n"
          ]
        }
      ]
    },
    {
      "cell_type": "code",
      "metadata": {
        "colab": {
          "base_uri": "https://localhost:8080/"
        },
        "id": "q4QFSWu0hvhQ",
        "outputId": "2a72d319-50aa-458c-d726-03c304fb24de"
      },
      "source": [
        "!kaggle datasets download -d andrewmvd/liver-tumor-segmentation"
      ],
      "execution_count": 26,
      "outputs": [
        {
          "output_type": "stream",
          "name": "stdout",
          "text": [
            "Downloading liver-tumor-segmentation.zip to /content\n",
            "100% 4.83G/4.84G [00:37<00:00, 34.4MB/s]\n",
            "100% 4.84G/4.84G [00:37<00:00, 137MB/s] \n"
          ]
        }
      ]
    },
    {
      "cell_type": "code",
      "metadata": {
        "colab": {
          "base_uri": "https://localhost:8080/"
        },
        "id": "t_YotAVphx37",
        "outputId": "fbf1d4f6-2b59-47bd-f16f-af3b3dff7f16"
      },
      "source": [
        "!unzip liver-tumor-segmentation.zip"
      ],
      "execution_count": 27,
      "outputs": [
        {
          "output_type": "stream",
          "name": "stdout",
          "text": [
            "Archive:  liver-tumor-segmentation.zip\n",
            "  inflating: segmentations/segmentation-0.nii  \n",
            "  inflating: segmentations/segmentation-1.nii  \n",
            "  inflating: segmentations/segmentation-10.nii  \n",
            "  inflating: segmentations/segmentation-100.nii  \n",
            "  inflating: segmentations/segmentation-101.nii  \n",
            "  inflating: segmentations/segmentation-102.nii  \n",
            "  inflating: segmentations/segmentation-103.nii  \n",
            "  inflating: segmentations/segmentation-104.nii  \n",
            "  inflating: segmentations/segmentation-105.nii  \n",
            "  inflating: segmentations/segmentation-106.nii  \n",
            "  inflating: segmentations/segmentation-107.nii  \n",
            "  inflating: segmentations/segmentation-108.nii  \n",
            "  inflating: segmentations/segmentation-109.nii  \n",
            "  inflating: segmentations/segmentation-11.nii  \n",
            "  inflating: segmentations/segmentation-110.nii  \n",
            "  inflating: segmentations/segmentation-111.nii  \n",
            "  inflating: segmentations/segmentation-112.nii  \n",
            "  inflating: segmentations/segmentation-113.nii  \n",
            "  inflating: segmentations/segmentation-114.nii  \n",
            "  inflating: segmentations/segmentation-115.nii  \n",
            "  inflating: segmentations/segmentation-116.nii  \n",
            "  inflating: segmentations/segmentation-117.nii  \n",
            "  inflating: segmentations/segmentation-118.nii  \n",
            "  inflating: segmentations/segmentation-119.nii  \n",
            "  inflating: segmentations/segmentation-12.nii  \n",
            "  inflating: segmentations/segmentation-120.nii  \n",
            "  inflating: segmentations/segmentation-121.nii  \n",
            "  inflating: segmentations/segmentation-122.nii  \n",
            "  inflating: segmentations/segmentation-123.nii  \n",
            "  inflating: segmentations/segmentation-124.nii  \n",
            "  inflating: segmentations/segmentation-125.nii  \n",
            "  inflating: segmentations/segmentation-126.nii  \n",
            "  inflating: segmentations/segmentation-127.nii  \n",
            "  inflating: segmentations/segmentation-128.nii  \n",
            "  inflating: segmentations/segmentation-129.nii  \n",
            "  inflating: segmentations/segmentation-13.nii  \n",
            "  inflating: segmentations/segmentation-130.nii  \n",
            "  inflating: segmentations/segmentation-14.nii  \n",
            "  inflating: segmentations/segmentation-15.nii  \n",
            "  inflating: segmentations/segmentation-16.nii  \n",
            "  inflating: segmentations/segmentation-17.nii  \n",
            "  inflating: segmentations/segmentation-18.nii  \n",
            "  inflating: segmentations/segmentation-19.nii  \n",
            "  inflating: segmentations/segmentation-2.nii  \n",
            "  inflating: segmentations/segmentation-20.nii  \n",
            "  inflating: segmentations/segmentation-21.nii  \n",
            "  inflating: segmentations/segmentation-22.nii  \n",
            "  inflating: segmentations/segmentation-23.nii  \n",
            "  inflating: segmentations/segmentation-24.nii  \n",
            "  inflating: segmentations/segmentation-25.nii  \n",
            "  inflating: segmentations/segmentation-26.nii  \n",
            "  inflating: segmentations/segmentation-27.nii  \n",
            "  inflating: segmentations/segmentation-28.nii  \n",
            "  inflating: segmentations/segmentation-29.nii  \n",
            "  inflating: segmentations/segmentation-3.nii  \n",
            "  inflating: segmentations/segmentation-30.nii  \n",
            "  inflating: segmentations/segmentation-31.nii  \n",
            "  inflating: segmentations/segmentation-32.nii  \n",
            "  inflating: segmentations/segmentation-33.nii  \n",
            "  inflating: segmentations/segmentation-34.nii  \n",
            "  inflating: segmentations/segmentation-35.nii  \n",
            "  inflating: segmentations/segmentation-36.nii  \n",
            "  inflating: segmentations/segmentation-37.nii  \n",
            "  inflating: segmentations/segmentation-38.nii  \n",
            "  inflating: segmentations/segmentation-39.nii  \n",
            "  inflating: segmentations/segmentation-4.nii  \n",
            "  inflating: segmentations/segmentation-40.nii  \n",
            "  inflating: segmentations/segmentation-41.nii  \n",
            "  inflating: segmentations/segmentation-42.nii  \n",
            "  inflating: segmentations/segmentation-43.nii  \n",
            "  inflating: segmentations/segmentation-44.nii  \n",
            "  inflating: segmentations/segmentation-45.nii  \n",
            "  inflating: segmentations/segmentation-46.nii  \n",
            "  inflating: segmentations/segmentation-47.nii  \n",
            "  inflating: segmentations/segmentation-48.nii  \n",
            "  inflating: segmentations/segmentation-49.nii  \n",
            "  inflating: segmentations/segmentation-5.nii  \n",
            "  inflating: segmentations/segmentation-50.nii  \n",
            "  inflating: segmentations/segmentation-51.nii  \n",
            "  inflating: segmentations/segmentation-52.nii  \n",
            "  inflating: segmentations/segmentation-53.nii  \n",
            "  inflating: segmentations/segmentation-54.nii  \n",
            "  inflating: segmentations/segmentation-55.nii  \n",
            "  inflating: segmentations/segmentation-56.nii  \n",
            "  inflating: segmentations/segmentation-57.nii  \n",
            "  inflating: segmentations/segmentation-58.nii  \n",
            "  inflating: segmentations/segmentation-59.nii  \n",
            "  inflating: segmentations/segmentation-6.nii  \n",
            "  inflating: segmentations/segmentation-60.nii  \n",
            "  inflating: segmentations/segmentation-61.nii  \n",
            "  inflating: segmentations/segmentation-62.nii  \n",
            "  inflating: segmentations/segmentation-63.nii  \n",
            "  inflating: segmentations/segmentation-64.nii  \n",
            "  inflating: segmentations/segmentation-65.nii  \n",
            "  inflating: segmentations/segmentation-66.nii  \n",
            "  inflating: segmentations/segmentation-67.nii  \n",
            "  inflating: segmentations/segmentation-68.nii  \n",
            "  inflating: segmentations/segmentation-69.nii  \n",
            "  inflating: segmentations/segmentation-7.nii  \n",
            "  inflating: segmentations/segmentation-70.nii  \n",
            "  inflating: segmentations/segmentation-71.nii  \n",
            "  inflating: segmentations/segmentation-72.nii  \n",
            "  inflating: segmentations/segmentation-73.nii  \n",
            "  inflating: segmentations/segmentation-74.nii  \n",
            "  inflating: segmentations/segmentation-75.nii  \n",
            "  inflating: segmentations/segmentation-76.nii  \n",
            "  inflating: segmentations/segmentation-77.nii  \n",
            "  inflating: segmentations/segmentation-78.nii  \n",
            "  inflating: segmentations/segmentation-79.nii  \n",
            "  inflating: segmentations/segmentation-8.nii  \n",
            "  inflating: segmentations/segmentation-80.nii  \n",
            "  inflating: segmentations/segmentation-81.nii  \n",
            "  inflating: segmentations/segmentation-82.nii  \n",
            "  inflating: segmentations/segmentation-83.nii  \n",
            "  inflating: segmentations/segmentation-84.nii  \n",
            "  inflating: segmentations/segmentation-85.nii  \n",
            "  inflating: segmentations/segmentation-86.nii  \n",
            "  inflating: segmentations/segmentation-87.nii  \n",
            "  inflating: segmentations/segmentation-88.nii  \n",
            "  inflating: segmentations/segmentation-89.nii  \n",
            "  inflating: segmentations/segmentation-9.nii  \n",
            "  inflating: segmentations/segmentation-90.nii  \n",
            "  inflating: segmentations/segmentation-91.nii  \n",
            "  inflating: segmentations/segmentation-92.nii  \n",
            "  inflating: segmentations/segmentation-93.nii  \n",
            "  inflating: segmentations/segmentation-94.nii  \n",
            "  inflating: segmentations/segmentation-95.nii  \n",
            "  inflating: segmentations/segmentation-96.nii  \n",
            "  inflating: segmentations/segmentation-97.nii  \n",
            "  inflating: segmentations/segmentation-98.nii  \n",
            "  inflating: segmentations/segmentation-99.nii  \n",
            "  inflating: volume_pt1/volume-0.nii  \n",
            "  inflating: volume_pt1/volume-1.nii  \n",
            "  inflating: volume_pt1/volume-10.nii  \n",
            "  inflating: volume_pt1/volume-2.nii  \n",
            "  inflating: volume_pt1/volume-3.nii  \n",
            "  inflating: volume_pt1/volume-4.nii  \n",
            "  inflating: volume_pt1/volume-5.nii  \n",
            "  inflating: volume_pt1/volume-6.nii  \n",
            "  inflating: volume_pt1/volume-7.nii  \n",
            "  inflating: volume_pt1/volume-8.nii  \n",
            "  inflating: volume_pt1/volume-9.nii  \n",
            "  inflating: volume_pt2/volume-11.nii  \n",
            "  inflating: volume_pt2/volume-12.nii  \n",
            "  inflating: volume_pt2/volume-13.nii  \n",
            "  inflating: volume_pt2/volume-14.nii  \n",
            "  inflating: volume_pt2/volume-15.nii  \n",
            "  inflating: volume_pt2/volume-16.nii  \n",
            "  inflating: volume_pt2/volume-17.nii  \n",
            "  inflating: volume_pt2/volume-18.nii  \n",
            "  inflating: volume_pt2/volume-19.nii  \n",
            "  inflating: volume_pt2/volume-20.nii  \n",
            "  inflating: volume_pt3/volume-21.nii  \n",
            "  inflating: volume_pt3/volume-22.nii  \n",
            "  inflating: volume_pt3/volume-23.nii  \n",
            "  inflating: volume_pt3/volume-24.nii  \n",
            "  inflating: volume_pt3/volume-25.nii  \n",
            "  inflating: volume_pt3/volume-26.nii  \n",
            "  inflating: volume_pt3/volume-27.nii  \n",
            "  inflating: volume_pt3/volume-28.nii  \n",
            "  inflating: volume_pt3/volume-29.nii  \n",
            "  inflating: volume_pt3/volume-30.nii  \n",
            "  inflating: volume_pt4/volume-31.nii  \n",
            "  inflating: volume_pt4/volume-32.nii  \n",
            "  inflating: volume_pt4/volume-33.nii  \n",
            "  inflating: volume_pt4/volume-34.nii  \n",
            "  inflating: volume_pt4/volume-35.nii  \n",
            "  inflating: volume_pt4/volume-36.nii  \n",
            "  inflating: volume_pt4/volume-37.nii  \n",
            "  inflating: volume_pt4/volume-38.nii  \n",
            "  inflating: volume_pt4/volume-39.nii  \n",
            "  inflating: volume_pt4/volume-40.nii  \n",
            "  inflating: volume_pt5/volume-41.nii  \n",
            "  inflating: volume_pt5/volume-42.nii  \n",
            "  inflating: volume_pt5/volume-43.nii  \n",
            "  inflating: volume_pt5/volume-44.nii  \n",
            "  inflating: volume_pt5/volume-45.nii  \n",
            "  inflating: volume_pt5/volume-46.nii  \n",
            "  inflating: volume_pt5/volume-47.nii  \n",
            "  inflating: volume_pt5/volume-48.nii  \n",
            "  inflating: volume_pt5/volume-49.nii  \n",
            "  inflating: volume_pt5/volume-50.nii  \n"
          ]
        }
      ]
    },
    {
      "cell_type": "code",
      "metadata": {
        "colab": {
          "base_uri": "https://localhost:8080/"
        },
        "id": "nT2om6aHhzQP",
        "outputId": "b75d9f59-49c7-4aca-cbb9-017078565df0"
      },
      "source": [
        "!pip install lungs-segmentation"
      ],
      "execution_count": 28,
      "outputs": [
        {
          "output_type": "stream",
          "name": "stdout",
          "text": [
            "Collecting lungs-segmentation\n",
            "  Downloading lungs_segmentation-1.1.2-py2.py3-none-any.whl (16 kB)\n",
            "Collecting albumentations==0.5.2 (from lungs-segmentation)\n",
            "  Downloading albumentations-0.5.2-py3-none-any.whl (72 kB)\n",
            "\u001b[2K     \u001b[90m━━━━━━━━━━━━━━━━━━━━━━━━━━━━━━━━━━━━━━━━\u001b[0m \u001b[32m72.2/72.2 kB\u001b[0m \u001b[31m1.4 MB/s\u001b[0m eta \u001b[36m0:00:00\u001b[0m\n",
            "\u001b[?25hINFO: pip is looking at multiple versions of lungs-segmentation to determine which version is compatible with other requirements. This could take a while.\n",
            "Collecting lungs-segmentation\n",
            "  Downloading lungs_segmentation-1.1.1-py2.py3-none-any.whl (16 kB)\n",
            "Collecting numpy==1.17.4 (from lungs-segmentation)\n",
            "  Downloading numpy-1.17.4.zip (6.4 MB)\n",
            "\u001b[2K     \u001b[90m━━━━━━━━━━━━━━━━━━━━━━━━━━━━━━━━━━━━━━━━\u001b[0m \u001b[32m6.4/6.4 MB\u001b[0m \u001b[31m26.5 MB/s\u001b[0m eta \u001b[36m0:00:00\u001b[0m\n",
            "\u001b[?25h  Preparing metadata (setup.py) ... \u001b[?25l\u001b[?25hdone\n",
            "Collecting pandas==0.25.3 (from lungs-segmentation)\n",
            "  Downloading pandas-0.25.3.tar.gz (12.6 MB)\n",
            "\u001b[2K     \u001b[90m━━━━━━━━━━━━━━━━━━━━━━━━━━━━━━━━━━━━━━━━\u001b[0m \u001b[32m12.6/12.6 MB\u001b[0m \u001b[31m49.5 MB/s\u001b[0m eta \u001b[36m0:00:00\u001b[0m\n",
            "\u001b[?25h  \u001b[1;31merror\u001b[0m: \u001b[1msubprocess-exited-with-error\u001b[0m\n",
            "  \n",
            "  \u001b[31m×\u001b[0m \u001b[32mpython setup.py egg_info\u001b[0m did not run successfully.\n",
            "  \u001b[31m│\u001b[0m exit code: \u001b[1;36m1\u001b[0m\n",
            "  \u001b[31m╰─>\u001b[0m See above for output.\n",
            "  \n",
            "  \u001b[1;35mnote\u001b[0m: This error originates from a subprocess, and is likely not a problem with pip.\n",
            "  Preparing metadata (setup.py) ... \u001b[?25l\u001b[?25herror\n",
            "\u001b[1;31merror\u001b[0m: \u001b[1mmetadata-generation-failed\u001b[0m\n",
            "\n",
            "\u001b[31m×\u001b[0m Encountered error while generating package metadata.\n",
            "\u001b[31m╰─>\u001b[0m See above for output.\n",
            "\n",
            "\u001b[1;35mnote\u001b[0m: This is an issue with the package mentioned above, not pip.\n",
            "\u001b[1;36mhint\u001b[0m: See above for details.\n"
          ]
        }
      ]
    },
    {
      "cell_type": "code",
      "metadata": {
        "colab": {
          "base_uri": "https://localhost:8080/"
        },
        "id": "P1v4OwRHh5h6",
        "outputId": "42d62b9e-db10-4309-ad41-1c76261a311a"
      },
      "source": [
        "!pip install git+https://github.com/JoHof/lungmask"
      ],
      "execution_count": 29,
      "outputs": [
        {
          "output_type": "stream",
          "name": "stdout",
          "text": [
            "Collecting git+https://github.com/JoHof/lungmask\n",
            "  Cloning https://github.com/JoHof/lungmask to /tmp/pip-req-build-9nyhx5ml\n",
            "  Running command git clone --filter=blob:none --quiet https://github.com/JoHof/lungmask /tmp/pip-req-build-9nyhx5ml\n",
            "  Resolved https://github.com/JoHof/lungmask to commit b0d4ab86548e514eb2a4d85b384af973807afd39\n",
            "  Installing build dependencies ... \u001b[?25l\u001b[?25hdone\n",
            "  Getting requirements to build wheel ... \u001b[?25l\u001b[?25hdone\n",
            "  Preparing metadata (pyproject.toml) ... \u001b[?25l\u001b[?25hdone\n",
            "Requirement already satisfied: pydicom in /usr/local/lib/python3.10/dist-packages (from lungmask==0.2.19) (2.4.4)\n",
            "Requirement already satisfied: numpy in /usr/local/lib/python3.10/dist-packages (from lungmask==0.2.19) (1.25.2)\n",
            "Requirement already satisfied: torch in /usr/local/lib/python3.10/dist-packages (from lungmask==0.2.19) (2.1.0+cu121)\n",
            "Requirement already satisfied: scipy in /usr/local/lib/python3.10/dist-packages (from lungmask==0.2.19) (1.11.4)\n",
            "Collecting SimpleITK (from lungmask==0.2.19)\n",
            "  Downloading SimpleITK-2.3.1-cp310-cp310-manylinux_2_17_x86_64.manylinux2014_x86_64.whl (52.7 MB)\n",
            "\u001b[2K     \u001b[90m━━━━━━━━━━━━━━━━━━━━━━━━━━━━━━━━━━━━━━━━\u001b[0m \u001b[32m52.7/52.7 MB\u001b[0m \u001b[31m10.9 MB/s\u001b[0m eta \u001b[36m0:00:00\u001b[0m\n",
            "\u001b[?25hRequirement already satisfied: tqdm in /usr/local/lib/python3.10/dist-packages (from lungmask==0.2.19) (4.66.2)\n",
            "Requirement already satisfied: scikit-image in /usr/local/lib/python3.10/dist-packages (from lungmask==0.2.19) (0.19.3)\n",
            "Collecting fill-voids (from lungmask==0.2.19)\n",
            "  Downloading fill_voids-2.0.6-cp310-cp310-manylinux_2_17_x86_64.manylinux2014_x86_64.whl (1.4 MB)\n",
            "\u001b[2K     \u001b[90m━━━━━━━━━━━━━━━━━━━━━━━━━━━━━━━━━━━━━━━━\u001b[0m \u001b[32m1.4/1.4 MB\u001b[0m \u001b[31m78.0 MB/s\u001b[0m eta \u001b[36m0:00:00\u001b[0m\n",
            "\u001b[?25hRequirement already satisfied: more-itertools in /usr/local/lib/python3.10/dist-packages (from lungmask==0.2.19) (10.1.0)\n",
            "Collecting fastremap (from fill-voids->lungmask==0.2.19)\n",
            "  Downloading fastremap-1.14.1-cp310-cp310-manylinux_2_17_x86_64.manylinux2014_x86_64.whl (6.0 MB)\n",
            "\u001b[2K     \u001b[90m━━━━━━━━━━━━━━━━━━━━━━━━━━━━━━━━━━━━━━━━\u001b[0m \u001b[32m6.0/6.0 MB\u001b[0m \u001b[31m63.0 MB/s\u001b[0m eta \u001b[36m0:00:00\u001b[0m\n",
            "\u001b[?25hRequirement already satisfied: networkx>=2.2 in /usr/local/lib/python3.10/dist-packages (from scikit-image->lungmask==0.2.19) (3.2.1)\n",
            "Requirement already satisfied: pillow!=7.1.0,!=7.1.1,!=8.3.0,>=6.1.0 in /usr/local/lib/python3.10/dist-packages (from scikit-image->lungmask==0.2.19) (9.4.0)\n",
            "Requirement already satisfied: imageio>=2.4.1 in /usr/local/lib/python3.10/dist-packages (from scikit-image->lungmask==0.2.19) (2.31.6)\n",
            "Requirement already satisfied: tifffile>=2019.7.26 in /usr/local/lib/python3.10/dist-packages (from scikit-image->lungmask==0.2.19) (2024.2.12)\n",
            "Requirement already satisfied: PyWavelets>=1.1.1 in /usr/local/lib/python3.10/dist-packages (from scikit-image->lungmask==0.2.19) (1.5.0)\n",
            "Requirement already satisfied: packaging>=20.0 in /usr/local/lib/python3.10/dist-packages (from scikit-image->lungmask==0.2.19) (23.2)\n",
            "Requirement already satisfied: filelock in /usr/local/lib/python3.10/dist-packages (from torch->lungmask==0.2.19) (3.13.1)\n",
            "Requirement already satisfied: typing-extensions in /usr/local/lib/python3.10/dist-packages (from torch->lungmask==0.2.19) (4.9.0)\n",
            "Requirement already satisfied: sympy in /usr/local/lib/python3.10/dist-packages (from torch->lungmask==0.2.19) (1.12)\n",
            "Requirement already satisfied: jinja2 in /usr/local/lib/python3.10/dist-packages (from torch->lungmask==0.2.19) (3.1.3)\n",
            "Requirement already satisfied: fsspec in /usr/local/lib/python3.10/dist-packages (from torch->lungmask==0.2.19) (2023.6.0)\n",
            "Requirement already satisfied: triton==2.1.0 in /usr/local/lib/python3.10/dist-packages (from torch->lungmask==0.2.19) (2.1.0)\n",
            "Requirement already satisfied: MarkupSafe>=2.0 in /usr/local/lib/python3.10/dist-packages (from jinja2->torch->lungmask==0.2.19) (2.1.5)\n",
            "Requirement already satisfied: mpmath>=0.19 in /usr/local/lib/python3.10/dist-packages (from sympy->torch->lungmask==0.2.19) (1.3.0)\n",
            "Building wheels for collected packages: lungmask\n",
            "  Building wheel for lungmask (pyproject.toml) ... \u001b[?25l\u001b[?25hdone\n",
            "  Created wheel for lungmask: filename=lungmask-0.2.19-py3-none-any.whl size=19996 sha256=fe8ebaf4362b5b960ed992378d9fb7b19b71abc24592c2d91bf62930baaf573f\n",
            "  Stored in directory: /tmp/pip-ephem-wheel-cache-tsrsngnf/wheels/e8/e3/e6/401a561962a4c16d3fa4066cb6a7f093296364b0c9272ca598\n",
            "Successfully built lungmask\n",
            "Installing collected packages: SimpleITK, fastremap, fill-voids, lungmask\n",
            "Successfully installed SimpleITK-2.3.1 fastremap-1.14.1 fill-voids-2.0.6 lungmask-0.2.19\n"
          ]
        }
      ]
    },
    {
      "cell_type": "code",
      "metadata": {
        "colab": {
          "base_uri": "https://localhost:8080/"
        },
        "id": "kGKnCIOuh8jS",
        "outputId": "cd49fabb-e552-4814-b264-a627b473880f"
      },
      "source": [
        "!kaggle datasets download -d kmader/siim-medical-images"
      ],
      "execution_count": 30,
      "outputs": [
        {
          "output_type": "stream",
          "name": "stdout",
          "text": [
            "Downloading siim-medical-images.zip to /content\n",
            " 98% 246M/250M [00:03<00:00, 104MB/s] \n",
            "100% 250M/250M [00:03<00:00, 85.2MB/s]\n"
          ]
        }
      ]
    },
    {
      "cell_type": "code",
      "metadata": {
        "colab": {
          "base_uri": "https://localhost:8080/"
        },
        "id": "ehhnUMuaiAoC",
        "outputId": "929faab0-1c56-4a04-c779-b6bf58cb0bdb"
      },
      "source": [
        "!unzip siim-medical-images.zip -d siim"
      ],
      "execution_count": 31,
      "outputs": [
        {
          "output_type": "stream",
          "name": "stdout",
          "text": [
            "Archive:  siim-medical-images.zip\n",
            "  inflating: siim/dicom_dir/ID_0000_AGE_0060_CONTRAST_1_CT.dcm  \n",
            "  inflating: siim/dicom_dir/ID_0001_AGE_0069_CONTRAST_1_CT.dcm  \n",
            "  inflating: siim/dicom_dir/ID_0002_AGE_0074_CONTRAST_1_CT.dcm  \n",
            "  inflating: siim/dicom_dir/ID_0003_AGE_0075_CONTRAST_1_CT.dcm  \n",
            "  inflating: siim/dicom_dir/ID_0004_AGE_0056_CONTRAST_1_CT.dcm  \n",
            "  inflating: siim/dicom_dir/ID_0005_AGE_0048_CONTRAST_1_CT.dcm  \n",
            "  inflating: siim/dicom_dir/ID_0006_AGE_0075_CONTRAST_1_CT.dcm  \n",
            "  inflating: siim/dicom_dir/ID_0007_AGE_0061_CONTRAST_1_CT.dcm  \n",
            "  inflating: siim/dicom_dir/ID_0008_AGE_0051_CONTRAST_1_CT.dcm  \n",
            "  inflating: siim/dicom_dir/ID_0009_AGE_0048_CONTRAST_1_CT.dcm  \n",
            "  inflating: siim/dicom_dir/ID_0010_AGE_0060_CONTRAST_1_CT.dcm  \n",
            "  inflating: siim/dicom_dir/ID_0011_AGE_0061_CONTRAST_1_CT.dcm  \n",
            "  inflating: siim/dicom_dir/ID_0012_AGE_0061_CONTRAST_1_CT.dcm  \n",
            "  inflating: siim/dicom_dir/ID_0013_AGE_0060_CONTRAST_1_CT.dcm  \n",
            "  inflating: siim/dicom_dir/ID_0014_AGE_0071_CONTRAST_1_CT.dcm  \n",
            "  inflating: siim/dicom_dir/ID_0015_AGE_0061_CONTRAST_1_CT.dcm  \n",
            "  inflating: siim/dicom_dir/ID_0016_AGE_0063_CONTRAST_1_CT.dcm  \n",
            "  inflating: siim/dicom_dir/ID_0017_AGE_0060_CONTRAST_1_CT.dcm  \n",
            "  inflating: siim/dicom_dir/ID_0018_AGE_0074_CONTRAST_1_CT.dcm  \n",
            "  inflating: siim/dicom_dir/ID_0019_AGE_0070_CONTRAST_1_CT.dcm  \n",
            "  inflating: siim/dicom_dir/ID_0020_AGE_0066_CONTRAST_1_CT.dcm  \n",
            "  inflating: siim/dicom_dir/ID_0021_AGE_0067_CONTRAST_1_CT.dcm  \n",
            "  inflating: siim/dicom_dir/ID_0022_AGE_0074_CONTRAST_1_CT.dcm  \n",
            "  inflating: siim/dicom_dir/ID_0023_AGE_0061_CONTRAST_1_CT.dcm  \n",
            "  inflating: siim/dicom_dir/ID_0024_AGE_0060_CONTRAST_1_CT.dcm  \n",
            "  inflating: siim/dicom_dir/ID_0025_AGE_0074_CONTRAST_1_CT.dcm  \n",
            "  inflating: siim/dicom_dir/ID_0026_AGE_0070_CONTRAST_1_CT.dcm  \n",
            "  inflating: siim/dicom_dir/ID_0027_AGE_0064_CONTRAST_1_CT.dcm  \n",
            "  inflating: siim/dicom_dir/ID_0028_AGE_0074_CONTRAST_1_CT.dcm  \n",
            "  inflating: siim/dicom_dir/ID_0029_AGE_0078_CONTRAST_1_CT.dcm  \n",
            "  inflating: siim/dicom_dir/ID_0030_AGE_0076_CONTRAST_1_CT.dcm  \n",
            "  inflating: siim/dicom_dir/ID_0031_AGE_0039_CONTRAST_1_CT.dcm  \n",
            "  inflating: siim/dicom_dir/ID_0032_AGE_0061_CONTRAST_1_CT.dcm  \n",
            "  inflating: siim/dicom_dir/ID_0033_AGE_0071_CONTRAST_1_CT.dcm  \n",
            "  inflating: siim/dicom_dir/ID_0034_AGE_0061_CONTRAST_1_CT.dcm  \n",
            "  inflating: siim/dicom_dir/ID_0035_AGE_0059_CONTRAST_1_CT.dcm  \n",
            "  inflating: siim/dicom_dir/ID_0036_AGE_0074_CONTRAST_1_CT.dcm  \n",
            "  inflating: siim/dicom_dir/ID_0037_AGE_0074_CONTRAST_1_CT.dcm  \n",
            "  inflating: siim/dicom_dir/ID_0038_AGE_0071_CONTRAST_1_CT.dcm  \n",
            "  inflating: siim/dicom_dir/ID_0039_AGE_0074_CONTRAST_1_CT.dcm  \n",
            "  inflating: siim/dicom_dir/ID_0040_AGE_0069_CONTRAST_1_CT.dcm  \n",
            "  inflating: siim/dicom_dir/ID_0041_AGE_0045_CONTRAST_1_CT.dcm  \n",
            "  inflating: siim/dicom_dir/ID_0042_AGE_0071_CONTRAST_1_CT.dcm  \n",
            "  inflating: siim/dicom_dir/ID_0043_AGE_0069_CONTRAST_1_CT.dcm  \n",
            "  inflating: siim/dicom_dir/ID_0044_AGE_0072_CONTRAST_1_CT.dcm  \n",
            "  inflating: siim/dicom_dir/ID_0045_AGE_0074_CONTRAST_1_CT.dcm  \n",
            "  inflating: siim/dicom_dir/ID_0046_AGE_0072_CONTRAST_1_CT.dcm  \n",
            "  inflating: siim/dicom_dir/ID_0047_AGE_0069_CONTRAST_1_CT.dcm  \n",
            "  inflating: siim/dicom_dir/ID_0048_AGE_0077_CONTRAST_1_CT.dcm  \n",
            "  inflating: siim/dicom_dir/ID_0049_AGE_0061_CONTRAST_1_CT.dcm  \n",
            "  inflating: siim/dicom_dir/ID_0050_AGE_0074_CONTRAST_0_CT.dcm  \n",
            "  inflating: siim/dicom_dir/ID_0051_AGE_0063_CONTRAST_0_CT.dcm  \n",
            "  inflating: siim/dicom_dir/ID_0052_AGE_0072_CONTRAST_0_CT.dcm  \n",
            "  inflating: siim/dicom_dir/ID_0053_AGE_0073_CONTRAST_0_CT.dcm  \n",
            "  inflating: siim/dicom_dir/ID_0054_AGE_0082_CONTRAST_0_CT.dcm  \n",
            "  inflating: siim/dicom_dir/ID_0055_AGE_0071_CONTRAST_0_CT.dcm  \n",
            "  inflating: siim/dicom_dir/ID_0056_AGE_0083_CONTRAST_0_CT.dcm  \n",
            "  inflating: siim/dicom_dir/ID_0057_AGE_0049_CONTRAST_0_CT.dcm  \n",
            "  inflating: siim/dicom_dir/ID_0058_AGE_0082_CONTRAST_0_CT.dcm  \n",
            "  inflating: siim/dicom_dir/ID_0059_AGE_0074_CONTRAST_0_CT.dcm  \n",
            "  inflating: siim/dicom_dir/ID_0060_AGE_0080_CONTRAST_0_CT.dcm  \n",
            "  inflating: siim/dicom_dir/ID_0061_AGE_0074_CONTRAST_0_CT.dcm  \n",
            "  inflating: siim/dicom_dir/ID_0062_AGE_0067_CONTRAST_0_CT.dcm  \n",
            "  inflating: siim/dicom_dir/ID_0063_AGE_0073_CONTRAST_0_CT.dcm  \n",
            "  inflating: siim/dicom_dir/ID_0064_AGE_0058_CONTRAST_0_CT.dcm  \n",
            "  inflating: siim/dicom_dir/ID_0065_AGE_0082_CONTRAST_0_CT.dcm  \n",
            "  inflating: siim/dicom_dir/ID_0066_AGE_0082_CONTRAST_0_CT.dcm  \n",
            "  inflating: siim/dicom_dir/ID_0067_AGE_0060_CONTRAST_0_CT.dcm  \n",
            "  inflating: siim/dicom_dir/ID_0068_AGE_0072_CONTRAST_0_CT.dcm  \n",
            "  inflating: siim/dicom_dir/ID_0069_AGE_0074_CONTRAST_0_CT.dcm  \n",
            "  inflating: siim/dicom_dir/ID_0070_AGE_0074_CONTRAST_0_CT.dcm  \n",
            "  inflating: siim/dicom_dir/ID_0071_AGE_0065_CONTRAST_0_CT.dcm  \n",
            "  inflating: siim/dicom_dir/ID_0072_AGE_0060_CONTRAST_0_CT.dcm  \n",
            "  inflating: siim/dicom_dir/ID_0073_AGE_0074_CONTRAST_0_CT.dcm  \n",
            "  inflating: siim/dicom_dir/ID_0074_AGE_0074_CONTRAST_0_CT.dcm  \n",
            "  inflating: siim/dicom_dir/ID_0075_AGE_0080_CONTRAST_0_CT.dcm  \n",
            "  inflating: siim/dicom_dir/ID_0076_AGE_0068_CONTRAST_0_CT.dcm  \n",
            "  inflating: siim/dicom_dir/ID_0077_AGE_0074_CONTRAST_0_CT.dcm  \n",
            "  inflating: siim/dicom_dir/ID_0078_AGE_0066_CONTRAST_0_CT.dcm  \n",
            "  inflating: siim/dicom_dir/ID_0079_AGE_0071_CONTRAST_0_CT.dcm  \n",
            "  inflating: siim/dicom_dir/ID_0080_AGE_0070_CONTRAST_0_CT.dcm  \n",
            "  inflating: siim/dicom_dir/ID_0081_AGE_0058_CONTRAST_0_CT.dcm  \n",
            "  inflating: siim/dicom_dir/ID_0082_AGE_0047_CONTRAST_0_CT.dcm  \n",
            "  inflating: siim/dicom_dir/ID_0083_AGE_0082_CONTRAST_0_CT.dcm  \n",
            "  inflating: siim/dicom_dir/ID_0084_AGE_0067_CONTRAST_0_CT.dcm  \n",
            "  inflating: siim/dicom_dir/ID_0085_AGE_0067_CONTRAST_0_CT.dcm  \n",
            "  inflating: siim/dicom_dir/ID_0086_AGE_0073_CONTRAST_0_CT.dcm  \n",
            "  inflating: siim/dicom_dir/ID_0087_AGE_0044_CONTRAST_0_CT.dcm  \n",
            "  inflating: siim/dicom_dir/ID_0088_AGE_0067_CONTRAST_0_CT.dcm  \n",
            "  inflating: siim/dicom_dir/ID_0089_AGE_0071_CONTRAST_0_CT.dcm  \n",
            "  inflating: siim/dicom_dir/ID_0090_AGE_0067_CONTRAST_0_CT.dcm  \n",
            "  inflating: siim/dicom_dir/ID_0091_AGE_0072_CONTRAST_0_CT.dcm  \n",
            "  inflating: siim/dicom_dir/ID_0092_AGE_0072_CONTRAST_0_CT.dcm  \n",
            "  inflating: siim/dicom_dir/ID_0093_AGE_0067_CONTRAST_0_CT.dcm  \n",
            "  inflating: siim/dicom_dir/ID_0094_AGE_0052_CONTRAST_0_CT.dcm  \n",
            "  inflating: siim/dicom_dir/ID_0095_AGE_0071_CONTRAST_0_CT.dcm  \n",
            "  inflating: siim/dicom_dir/ID_0096_AGE_0083_CONTRAST_0_CT.dcm  \n",
            "  inflating: siim/dicom_dir/ID_0097_AGE_0060_CONTRAST_0_CT.dcm  \n",
            "  inflating: siim/dicom_dir/ID_0098_AGE_0061_CONTRAST_0_CT.dcm  \n",
            "  inflating: siim/dicom_dir/ID_0099_AGE_0061_CONTRAST_0_CT.dcm  \n",
            "  inflating: siim/full_archive.npz   \n",
            "  inflating: siim/overview.csv       \n",
            "  inflating: siim/tiff_images/ID_0000_AGE_0060_CONTRAST_1_CT.tif  \n",
            "  inflating: siim/tiff_images/ID_0001_AGE_0069_CONTRAST_1_CT.tif  \n",
            "  inflating: siim/tiff_images/ID_0002_AGE_0074_CONTRAST_1_CT.tif  \n",
            "  inflating: siim/tiff_images/ID_0003_AGE_0075_CONTRAST_1_CT.tif  \n",
            "  inflating: siim/tiff_images/ID_0004_AGE_0056_CONTRAST_1_CT.tif  \n",
            "  inflating: siim/tiff_images/ID_0005_AGE_0048_CONTRAST_1_CT.tif  \n",
            "  inflating: siim/tiff_images/ID_0006_AGE_0075_CONTRAST_1_CT.tif  \n",
            "  inflating: siim/tiff_images/ID_0007_AGE_0061_CONTRAST_1_CT.tif  \n",
            "  inflating: siim/tiff_images/ID_0008_AGE_0051_CONTRAST_1_CT.tif  \n",
            "  inflating: siim/tiff_images/ID_0009_AGE_0048_CONTRAST_1_CT.tif  \n",
            "  inflating: siim/tiff_images/ID_0010_AGE_0060_CONTRAST_1_CT.tif  \n",
            "  inflating: siim/tiff_images/ID_0011_AGE_0061_CONTRAST_1_CT.tif  \n",
            "  inflating: siim/tiff_images/ID_0012_AGE_0061_CONTRAST_1_CT.tif  \n",
            "  inflating: siim/tiff_images/ID_0013_AGE_0060_CONTRAST_1_CT.tif  \n",
            "  inflating: siim/tiff_images/ID_0014_AGE_0071_CONTRAST_1_CT.tif  \n",
            "  inflating: siim/tiff_images/ID_0015_AGE_0061_CONTRAST_1_CT.tif  \n",
            "  inflating: siim/tiff_images/ID_0016_AGE_0063_CONTRAST_1_CT.tif  \n",
            "  inflating: siim/tiff_images/ID_0017_AGE_0060_CONTRAST_1_CT.tif  \n",
            "  inflating: siim/tiff_images/ID_0018_AGE_0074_CONTRAST_1_CT.tif  \n",
            "  inflating: siim/tiff_images/ID_0019_AGE_0070_CONTRAST_1_CT.tif  \n",
            "  inflating: siim/tiff_images/ID_0020_AGE_0066_CONTRAST_1_CT.tif  \n",
            "  inflating: siim/tiff_images/ID_0021_AGE_0067_CONTRAST_1_CT.tif  \n",
            "  inflating: siim/tiff_images/ID_0022_AGE_0074_CONTRAST_1_CT.tif  \n",
            "  inflating: siim/tiff_images/ID_0023_AGE_0061_CONTRAST_1_CT.tif  \n",
            "  inflating: siim/tiff_images/ID_0024_AGE_0060_CONTRAST_1_CT.tif  \n",
            "  inflating: siim/tiff_images/ID_0025_AGE_0074_CONTRAST_1_CT.tif  \n",
            "  inflating: siim/tiff_images/ID_0026_AGE_0070_CONTRAST_1_CT.tif  \n",
            "  inflating: siim/tiff_images/ID_0027_AGE_0064_CONTRAST_1_CT.tif  \n",
            "  inflating: siim/tiff_images/ID_0028_AGE_0074_CONTRAST_1_CT.tif  \n",
            "  inflating: siim/tiff_images/ID_0029_AGE_0078_CONTRAST_1_CT.tif  \n",
            "  inflating: siim/tiff_images/ID_0030_AGE_0076_CONTRAST_1_CT.tif  \n",
            "  inflating: siim/tiff_images/ID_0031_AGE_0039_CONTRAST_1_CT.tif  \n",
            "  inflating: siim/tiff_images/ID_0032_AGE_0061_CONTRAST_1_CT.tif  \n",
            "  inflating: siim/tiff_images/ID_0033_AGE_0071_CONTRAST_1_CT.tif  \n",
            "  inflating: siim/tiff_images/ID_0034_AGE_0061_CONTRAST_1_CT.tif  \n",
            "  inflating: siim/tiff_images/ID_0035_AGE_0059_CONTRAST_1_CT.tif  \n",
            "  inflating: siim/tiff_images/ID_0036_AGE_0074_CONTRAST_1_CT.tif  \n",
            "  inflating: siim/tiff_images/ID_0037_AGE_0074_CONTRAST_1_CT.tif  \n",
            "  inflating: siim/tiff_images/ID_0038_AGE_0071_CONTRAST_1_CT.tif  \n",
            "  inflating: siim/tiff_images/ID_0039_AGE_0074_CONTRAST_1_CT.tif  \n",
            "  inflating: siim/tiff_images/ID_0040_AGE_0069_CONTRAST_1_CT.tif  \n",
            "  inflating: siim/tiff_images/ID_0041_AGE_0045_CONTRAST_1_CT.tif  \n",
            "  inflating: siim/tiff_images/ID_0042_AGE_0071_CONTRAST_1_CT.tif  \n",
            "  inflating: siim/tiff_images/ID_0043_AGE_0069_CONTRAST_1_CT.tif  \n",
            "  inflating: siim/tiff_images/ID_0044_AGE_0072_CONTRAST_1_CT.tif  \n",
            "  inflating: siim/tiff_images/ID_0045_AGE_0074_CONTRAST_1_CT.tif  \n",
            "  inflating: siim/tiff_images/ID_0046_AGE_0072_CONTRAST_1_CT.tif  \n",
            "  inflating: siim/tiff_images/ID_0047_AGE_0069_CONTRAST_1_CT.tif  \n",
            "  inflating: siim/tiff_images/ID_0048_AGE_0077_CONTRAST_1_CT.tif  \n",
            "  inflating: siim/tiff_images/ID_0049_AGE_0061_CONTRAST_1_CT.tif  \n",
            "  inflating: siim/tiff_images/ID_0050_AGE_0074_CONTRAST_0_CT.tif  \n",
            "  inflating: siim/tiff_images/ID_0051_AGE_0063_CONTRAST_0_CT.tif  \n",
            "  inflating: siim/tiff_images/ID_0052_AGE_0072_CONTRAST_0_CT.tif  \n",
            "  inflating: siim/tiff_images/ID_0053_AGE_0073_CONTRAST_0_CT.tif  \n",
            "  inflating: siim/tiff_images/ID_0054_AGE_0082_CONTRAST_0_CT.tif  \n",
            "  inflating: siim/tiff_images/ID_0055_AGE_0071_CONTRAST_0_CT.tif  \n",
            "  inflating: siim/tiff_images/ID_0056_AGE_0083_CONTRAST_0_CT.tif  \n",
            "  inflating: siim/tiff_images/ID_0057_AGE_0049_CONTRAST_0_CT.tif  \n",
            "  inflating: siim/tiff_images/ID_0058_AGE_0082_CONTRAST_0_CT.tif  \n",
            "  inflating: siim/tiff_images/ID_0059_AGE_0074_CONTRAST_0_CT.tif  \n",
            "  inflating: siim/tiff_images/ID_0060_AGE_0080_CONTRAST_0_CT.tif  \n",
            "  inflating: siim/tiff_images/ID_0061_AGE_0074_CONTRAST_0_CT.tif  \n",
            "  inflating: siim/tiff_images/ID_0062_AGE_0067_CONTRAST_0_CT.tif  \n",
            "  inflating: siim/tiff_images/ID_0063_AGE_0073_CONTRAST_0_CT.tif  \n",
            "  inflating: siim/tiff_images/ID_0064_AGE_0058_CONTRAST_0_CT.tif  \n",
            "  inflating: siim/tiff_images/ID_0065_AGE_0082_CONTRAST_0_CT.tif  \n",
            "  inflating: siim/tiff_images/ID_0066_AGE_0082_CONTRAST_0_CT.tif  \n",
            "  inflating: siim/tiff_images/ID_0067_AGE_0060_CONTRAST_0_CT.tif  \n",
            "  inflating: siim/tiff_images/ID_0068_AGE_0072_CONTRAST_0_CT.tif  \n",
            "  inflating: siim/tiff_images/ID_0069_AGE_0074_CONTRAST_0_CT.tif  \n",
            "  inflating: siim/tiff_images/ID_0070_AGE_0074_CONTRAST_0_CT.tif  \n",
            "  inflating: siim/tiff_images/ID_0071_AGE_0065_CONTRAST_0_CT.tif  \n",
            "  inflating: siim/tiff_images/ID_0072_AGE_0060_CONTRAST_0_CT.tif  \n",
            "  inflating: siim/tiff_images/ID_0073_AGE_0074_CONTRAST_0_CT.tif  \n",
            "  inflating: siim/tiff_images/ID_0074_AGE_0074_CONTRAST_0_CT.tif  \n",
            "  inflating: siim/tiff_images/ID_0075_AGE_0080_CONTRAST_0_CT.tif  \n",
            "  inflating: siim/tiff_images/ID_0076_AGE_0068_CONTRAST_0_CT.tif  \n",
            "  inflating: siim/tiff_images/ID_0077_AGE_0074_CONTRAST_0_CT.tif  \n",
            "  inflating: siim/tiff_images/ID_0078_AGE_0066_CONTRAST_0_CT.tif  \n",
            "  inflating: siim/tiff_images/ID_0079_AGE_0071_CONTRAST_0_CT.tif  \n",
            "  inflating: siim/tiff_images/ID_0080_AGE_0070_CONTRAST_0_CT.tif  \n",
            "  inflating: siim/tiff_images/ID_0081_AGE_0058_CONTRAST_0_CT.tif  \n",
            "  inflating: siim/tiff_images/ID_0082_AGE_0047_CONTRAST_0_CT.tif  \n",
            "  inflating: siim/tiff_images/ID_0083_AGE_0082_CONTRAST_0_CT.tif  \n",
            "  inflating: siim/tiff_images/ID_0084_AGE_0067_CONTRAST_0_CT.tif  \n",
            "  inflating: siim/tiff_images/ID_0085_AGE_0067_CONTRAST_0_CT.tif  \n",
            "  inflating: siim/tiff_images/ID_0086_AGE_0073_CONTRAST_0_CT.tif  \n",
            "  inflating: siim/tiff_images/ID_0087_AGE_0044_CONTRAST_0_CT.tif  \n",
            "  inflating: siim/tiff_images/ID_0088_AGE_0067_CONTRAST_0_CT.tif  \n",
            "  inflating: siim/tiff_images/ID_0089_AGE_0071_CONTRAST_0_CT.tif  \n",
            "  inflating: siim/tiff_images/ID_0090_AGE_0067_CONTRAST_0_CT.tif  \n",
            "  inflating: siim/tiff_images/ID_0091_AGE_0072_CONTRAST_0_CT.tif  \n",
            "  inflating: siim/tiff_images/ID_0092_AGE_0072_CONTRAST_0_CT.tif  \n",
            "  inflating: siim/tiff_images/ID_0093_AGE_0067_CONTRAST_0_CT.tif  \n",
            "  inflating: siim/tiff_images/ID_0094_AGE_0052_CONTRAST_0_CT.tif  \n",
            "  inflating: siim/tiff_images/ID_0095_AGE_0071_CONTRAST_0_CT.tif  \n",
            "  inflating: siim/tiff_images/ID_0096_AGE_0083_CONTRAST_0_CT.tif  \n",
            "  inflating: siim/tiff_images/ID_0097_AGE_0060_CONTRAST_0_CT.tif  \n",
            "  inflating: siim/tiff_images/ID_0098_AGE_0061_CONTRAST_0_CT.tif  \n",
            "  inflating: siim/tiff_images/ID_0099_AGE_0061_CONTRAST_0_CT.tif  \n"
          ]
        }
      ]
    },
    {
      "cell_type": "code",
      "metadata": {
        "id": "v8XML8-jiB4Y"
      },
      "source": [
        "!mkdir siim/png"
      ],
      "execution_count": 32,
      "outputs": []
    },
    {
      "cell_type": "code",
      "metadata": {
        "id": "fy9w1b_NiEdj"
      },
      "source": [
        "!cp siim/dicom_dir/ID_0099_AGE_0061_CONTRAST_0_CT.dcm siim/png"
      ],
      "execution_count": 33,
      "outputs": []
    },
    {
      "cell_type": "code",
      "metadata": {
        "id": "FGzEBk2ziFkt"
      },
      "source": [
        "! [ -e /content ] && pip install -Uqq fastai"
      ],
      "execution_count": 34,
      "outputs": []
    },
    {
      "cell_type": "code",
      "metadata": {
        "colab": {
          "base_uri": "https://localhost:8080/"
        },
        "id": "Hahc4eHSiHyw",
        "outputId": "5d67603c-fbcc-4612-ccb2-4e9f0ef296bc"
      },
      "source": [
        "!pip install kornia"
      ],
      "execution_count": 35,
      "outputs": [
        {
          "output_type": "stream",
          "name": "stdout",
          "text": [
            "Collecting kornia\n",
            "  Downloading kornia-0.7.1-py2.py3-none-any.whl (756 kB)\n",
            "\u001b[2K     \u001b[90m━━━━━━━━━━━━━━━━━━━━━━━━━━━━━━━━━━━━━━━━\u001b[0m \u001b[32m756.0/756.0 kB\u001b[0m \u001b[31m4.9 MB/s\u001b[0m eta \u001b[36m0:00:00\u001b[0m\n",
            "\u001b[?25hRequirement already satisfied: packaging in /usr/local/lib/python3.10/dist-packages (from kornia) (23.2)\n",
            "Requirement already satisfied: torch>=1.9.1 in /usr/local/lib/python3.10/dist-packages (from kornia) (2.1.0+cu121)\n",
            "Requirement already satisfied: filelock in /usr/local/lib/python3.10/dist-packages (from torch>=1.9.1->kornia) (3.13.1)\n",
            "Requirement already satisfied: typing-extensions in /usr/local/lib/python3.10/dist-packages (from torch>=1.9.1->kornia) (4.9.0)\n",
            "Requirement already satisfied: sympy in /usr/local/lib/python3.10/dist-packages (from torch>=1.9.1->kornia) (1.12)\n",
            "Requirement already satisfied: networkx in /usr/local/lib/python3.10/dist-packages (from torch>=1.9.1->kornia) (3.2.1)\n",
            "Requirement already satisfied: jinja2 in /usr/local/lib/python3.10/dist-packages (from torch>=1.9.1->kornia) (3.1.3)\n",
            "Requirement already satisfied: fsspec in /usr/local/lib/python3.10/dist-packages (from torch>=1.9.1->kornia) (2023.6.0)\n",
            "Requirement already satisfied: triton==2.1.0 in /usr/local/lib/python3.10/dist-packages (from torch>=1.9.1->kornia) (2.1.0)\n",
            "Requirement already satisfied: MarkupSafe>=2.0 in /usr/local/lib/python3.10/dist-packages (from jinja2->torch>=1.9.1->kornia) (2.1.5)\n",
            "Requirement already satisfied: mpmath>=0.19 in /usr/local/lib/python3.10/dist-packages (from sympy->torch>=1.9.1->kornia) (1.3.0)\n",
            "Installing collected packages: kornia\n",
            "Successfully installed kornia-0.7.1\n"
          ]
        }
      ]
    },
    {
      "cell_type": "code",
      "metadata": {
        "id": "gm6-sisziJEl"
      },
      "source": [],
      "execution_count": 35,
      "outputs": []
    }
  ]
}